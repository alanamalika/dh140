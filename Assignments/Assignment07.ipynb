{
 "cells": [
  {
   "cell_type": "markdown",
   "id": "d34ef550-91c8-41b0-956c-f63153594156",
   "metadata": {},
   "source": [
    "# Assignment 07: Stats & Modelling"
   ]
  },
  {
   "cell_type": "markdown",
   "id": "46a4b96d-0afe-4dfc-a0e0-c69267e12e94",
   "metadata": {},
   "source": [
    "## Step 2: Using the same Shakespeare play from your Week 6 Assignment:"
   ]
  },
  {
   "cell_type": "markdown",
   "id": "6082b620-d5c1-4154-b03d-270616cc4c1d",
   "metadata": {},
   "source": [
    "Tokenize the words, remove stopwords, stem or lemmatize the words, and calculate the word frequencies"
   ]
  },
  {
   "cell_type": "code",
   "execution_count": 30,
   "id": "c83390af-ce53-42c1-aa27-5c57c103fbc2",
   "metadata": {},
   "outputs": [],
   "source": [
    "import requests\n",
    "from bs4 import BeautifulSoup\n",
    "from nltk.tokenize import sent_tokenize, word_tokenize\n",
    "from nltk.corpus import stopwords\n",
    "from string import punctuation\n",
    "from nltk.probability import FreqDist\n",
    "import pandas as pd\n",
    "import numpy as np\n",
    "import matplotlib.pyplot as plt\n",
    "from sklearn.linear_model import LinearRegression\n",
    "from sklearn.metrics import mean_squared_error, r2_score\n"
   ]
  },
  {
   "cell_type": "code",
   "execution_count": 2,
   "id": "bb9413ba-fb50-4a0c-8918-43aff37802dd",
   "metadata": {},
   "outputs": [],
   "source": [
    "response = requests.get('https://www.gutenberg.org/files/1524/1524-h/1524-h.htm')\n",
    "html_string = response.text\n",
    "document = BeautifulSoup(html_string, \"html.parser\")\n"
   ]
  },
  {
   "cell_type": "code",
   "execution_count": 3,
   "id": "7b751f2c-d217-47af-b8e8-d4bafacd7041",
   "metadata": {},
   "outputs": [],
   "source": [
    "document = document.text"
   ]
  },
  {
   "cell_type": "code",
   "execution_count": 4,
   "id": "869e0d6e-40a9-4dec-98ac-b1dd2ae6a0bc",
   "metadata": {},
   "outputs": [],
   "source": [
    "for i in ['\\n','[',']','’','”','“', '\\r']:\n",
    "    document = document.replace(i,' ')"
   ]
  },
  {
   "cell_type": "code",
   "execution_count": 9,
   "id": "10aa5ecc-377b-42d1-b449-65b7663b94ea",
   "metadata": {},
   "outputs": [],
   "source": [
    "sentences = sent_tokenize(document)\n",
    "words = word_tokenize(document.lower())\n",
    "myStopWords = list(punctuation) + stopwords.words('english')\n",
    "wordsNoStopWords = [w for w in words if w not in myStopWords]\n",
    "freq = FreqDist(wordsNoStopWords)"
   ]
  },
  {
   "cell_type": "code",
   "execution_count": 11,
   "id": "35c67dd1-6c72-4c9e-b41f-8d9c50542564",
   "metadata": {},
   "outputs": [
    {
     "name": "stdout",
     "output_type": "stream",
     "text": [
      "mean =  3.780854906682721\n",
      "median =  1.0\n",
      "mode =  0    1\n",
      "dtype: int64\n"
     ]
    }
   ],
   "source": [
    "word = []\n",
    "frequency = []\n",
    "\n",
    "for i in sorted(freq, key=freq.get, reverse=True):\n",
    "    word.append(i)\n",
    "    frequency.append(freq[i])\n",
    "    \n",
    "wordfrequency = pd.DataFrame({'word': word,\n",
    "                              'frequency': frequency},\n",
    "                             columns = ['word', 'frequency'])\n",
    "\n",
    "print('mean = ', wordfrequency['frequency'].mean())\n",
    "print('median = ', wordfrequency['frequency'].median())\n",
    "print('mode = ', wordfrequency['frequency'].mode())\n"
   ]
  },
  {
   "cell_type": "markdown",
   "id": "66d9da81-1f3a-4cd4-b9d8-4c7a0cb4e03f",
   "metadata": {},
   "source": [
    "To get the trimmed mean, looked at where the frequency started showing 5, as words occuring 1, 2, 3, or 4 times aren't the most frequent and aren't as interesting and relevant I thought."
   ]
  },
  {
   "cell_type": "code",
   "execution_count": 14,
   "id": "bfdc3e3f-24cb-4a49-a757-0d87a85c6730",
   "metadata": {},
   "outputs": [
    {
     "name": "stdout",
     "output_type": "stream",
     "text": [
      "trimmed mean = frequency    20.737303\n",
      "dtype: float64\n"
     ]
    },
    {
     "name": "stderr",
     "output_type": "stream",
     "text": [
      "/tmp/ipykernel_2531/685426329.py:1: FutureWarning: Dropping of nuisance columns in DataFrame reductions (with 'numeric_only=None') is deprecated; in a future version this will raise TypeError.  Select only valid columns before calling the reduction.\n",
      "  print('trimmed mean =', wordfrequency[wordfrequency['frequency'] > 5].mean())\n"
     ]
    }
   ],
   "source": [
    "print('trimmed mean =', wordfrequency[wordfrequency['frequency'] > 5].mean())\n"
   ]
  },
  {
   "cell_type": "code",
   "execution_count": 18,
   "id": "a8145463-175b-4cbb-911a-bd223e9ae674",
   "metadata": {},
   "outputs": [
    {
     "data": {
      "text/plain": [
       "<AxesSubplot:ylabel='Frequency'>"
      ]
     },
     "execution_count": 18,
     "metadata": {},
     "output_type": "execute_result"
    },
    {
     "data": {
      "image/png": "[encoded data removed]",
      "text/plain": [
       "<Figure size 432x288 with 1 Axes>"
      ]
     },
     "metadata": {
      "needs_background": "light"
     },
     "output_type": "display_data"
    }
   ],
   "source": [
    "wordfrequency.plot(kind='hist', xlim=(0,300))\n"
   ]
  },
  {
   "cell_type": "code",
   "execution_count": 19,
   "id": "eaae855b-e29f-4843-8037-c9a21d42ac66",
   "metadata": {},
   "outputs": [
    {
     "data": {
      "text/plain": [
       "array([[<AxesSubplot:title={'center':'frequency'}>]], dtype=object)"
      ]
     },
     "execution_count": 19,
     "metadata": {},
     "output_type": "execute_result"
    },
    {
     "data": {
      "image/png": "[encoded data removed]",
      "text/plain": [
       "<Figure size 432x288 with 1 Axes>"
      ]
     },
     "metadata": {
      "needs_background": "light"
     },
     "output_type": "display_data"
    }
   ],
   "source": [
    "wordfrequency[wordfrequency['frequency'] > 5].hist()\n"
   ]
  },
  {
   "cell_type": "code",
   "execution_count": 20,
   "id": "25ff8b78-d207-4ee7-99ec-fb0128a3324f",
   "metadata": {},
   "outputs": [
    {
     "name": "stdout",
     "output_type": "stream",
     "text": [
      "interquartile range = 2.0\n",
      "std = 13.641645019403855\n"
     ]
    }
   ],
   "source": [
    "print('interquartile range =', wordfrequency['frequency'].quantile(0.75) - wordfrequency['frequency'].quantile(0.25))\n",
    "print('std =', wordfrequency['frequency'].std())"
   ]
  },
  {
   "cell_type": "markdown",
   "id": "08a909a7-2516-4d56-a422-eb8e4445ca11",
   "metadata": {},
   "source": [
    "## Step 3: Foray into machine learning"
   ]
  },
  {
   "cell_type": "markdown",
   "id": "2b1341e1-6890-4516-a2b6-fab5123b1891",
   "metadata": {},
   "source": [
    "Import scikit-learn's example diabetes dataset as a Panda's dataframe with the following code:"
   ]
  },
  {
   "cell_type": "code",
   "execution_count": 21,
   "id": "a0723018-b624-47e1-b502-6579bde93074",
   "metadata": {},
   "outputs": [],
   "source": [
    "from sklearn import datasets\n",
    "df = datasets.load_diabetes(as_frame=True) \n",
    "features_df = df.data\n",
    "target_df = df.target"
   ]
  },
  {
   "cell_type": "markdown",
   "id": "98e09baf-a641-4a32-8714-cbf3e8e8a3a2",
   "metadata": {},
   "source": [
    "Use the following code to view a description of the dataset:"
   ]
  },
  {
   "cell_type": "code",
   "execution_count": 23,
   "id": "10122805-d4a7-4916-99b0-a14baa9926be",
   "metadata": {
    "collapsed": true,
    "jupyter": {
     "outputs_hidden": true
    },
    "tags": []
   },
   "outputs": [
    {
     "name": "stdout",
     "output_type": "stream",
     "text": [
      ".. _diabetes_dataset:\n",
      "\n",
      "Diabetes dataset\n",
      "----------------\n",
      "\n",
      "Ten baseline variables, age, sex, body mass index, average blood\n",
      "pressure, and six blood serum measurements were obtained for each of n =\n",
      "442 diabetes patients, as well as the response of interest, a\n",
      "quantitative measure of disease progression one year after baseline.\n",
      "\n",
      "**Data Set Characteristics:**\n",
      "\n",
      "  :Number of Instances: 442\n",
      "\n",
      "  :Number of Attributes: First 10 columns are numeric predictive values\n",
      "\n",
      "  :Target: Column 11 is a quantitative measure of disease progression one year after baseline\n",
      "\n",
      "  :Attribute Information:\n",
      "      - age     age in years\n",
      "      - sex\n",
      "      - bmi     body mass index\n",
      "      - bp      average blood pressure\n",
      "      - s1      tc, total serum cholesterol\n",
      "      - s2      ldl, low-density lipoproteins\n",
      "      - s3      hdl, high-density lipoproteins\n",
      "      - s4      tch, total cholesterol / HDL\n",
      "      - s5      ltg, possibly log of serum triglycerides level\n",
      "      - s6      glu, blood sugar level\n",
      "\n",
      "Note: Each of these 10 feature variables have been mean centered and scaled by the standard deviation times `n_samples` (i.e. the sum of squares of each column totals 1).\n",
      "\n",
      "Source URL:\n",
      "https://www4.stat.ncsu.edu/~boos/var.select/diabetes.html\n",
      "\n",
      "For more information see:\n",
      "Bradley Efron, Trevor Hastie, Iain Johnstone and Robert Tibshirani (2004) \"Least Angle Regression,\" Annals of Statistics (with discussion), 407-499.\n",
      "(https://web.stanford.edu/~hastie/Papers/LARS/LeastAngle_2002.pdf)\n"
     ]
    }
   ],
   "source": [
    "print(df.DESCR)"
   ]
  },
  {
   "cell_type": "markdown",
   "id": "3845454f-6484-46d9-99b6-f2e1aa4e6455",
   "metadata": {},
   "source": [
    "Do some exploratory data analysis of the features, including getting summary statistical information"
   ]
  },
  {
   "cell_type": "code",
   "execution_count": 24,
   "id": "e9698d70-21b5-4d7e-a08b-d59709f1e93d",
   "metadata": {},
   "outputs": [
    {
     "data": {
      "text/html": [
       "<div>\n",
       "<style scoped>\n",
       "    .dataframe tbody tr th:only-of-type {\n",
       "        vertical-align: middle;\n",
       "    }\n",
       "\n",
       "    .dataframe tbody tr th {\n",
       "        vertical-align: top;\n",
       "    }\n",
       "\n",
       "    .dataframe thead th {\n",
       "        text-align: right;\n",
       "    }\n",
       "</style>\n",
       "<table border=\"1\" class=\"dataframe\">\n",
       "  <thead>\n",
       "    <tr style=\"text-align: right;\">\n",
       "      <th></th>\n",
       "      <th>age</th>\n",
       "      <th>sex</th>\n",
       "      <th>bmi</th>\n",
       "      <th>bp</th>\n",
       "      <th>s1</th>\n",
       "      <th>s2</th>\n",
       "      <th>s3</th>\n",
       "      <th>s4</th>\n",
       "      <th>s5</th>\n",
       "      <th>s6</th>\n",
       "    </tr>\n",
       "  </thead>\n",
       "  <tbody>\n",
       "    <tr>\n",
       "      <th>count</th>\n",
       "      <td>442.00000</td>\n",
       "      <td>442.00000</td>\n",
       "      <td>442.00000</td>\n",
       "      <td>442.00000</td>\n",
       "      <td>442.00000</td>\n",
       "      <td>442.00000</td>\n",
       "      <td>442.00000</td>\n",
       "      <td>442.00000</td>\n",
       "      <td>442.00000</td>\n",
       "      <td>442.00000</td>\n",
       "    </tr>\n",
       "    <tr>\n",
       "      <th>mean</th>\n",
       "      <td>-0.00000</td>\n",
       "      <td>0.00000</td>\n",
       "      <td>-0.00000</td>\n",
       "      <td>0.00000</td>\n",
       "      <td>-0.00000</td>\n",
       "      <td>0.00000</td>\n",
       "      <td>-0.00000</td>\n",
       "      <td>0.00000</td>\n",
       "      <td>-0.00000</td>\n",
       "      <td>-0.00000</td>\n",
       "    </tr>\n",
       "    <tr>\n",
       "      <th>std</th>\n",
       "      <td>0.04762</td>\n",
       "      <td>0.04762</td>\n",
       "      <td>0.04762</td>\n",
       "      <td>0.04762</td>\n",
       "      <td>0.04762</td>\n",
       "      <td>0.04762</td>\n",
       "      <td>0.04762</td>\n",
       "      <td>0.04762</td>\n",
       "      <td>0.04762</td>\n",
       "      <td>0.04762</td>\n",
       "    </tr>\n",
       "    <tr>\n",
       "      <th>min</th>\n",
       "      <td>-0.10723</td>\n",
       "      <td>-0.04464</td>\n",
       "      <td>-0.09028</td>\n",
       "      <td>-0.11240</td>\n",
       "      <td>-0.12678</td>\n",
       "      <td>-0.11561</td>\n",
       "      <td>-0.10231</td>\n",
       "      <td>-0.07639</td>\n",
       "      <td>-0.12610</td>\n",
       "      <td>-0.13777</td>\n",
       "    </tr>\n",
       "    <tr>\n",
       "      <th>25%</th>\n",
       "      <td>-0.03730</td>\n",
       "      <td>-0.04464</td>\n",
       "      <td>-0.03423</td>\n",
       "      <td>-0.03666</td>\n",
       "      <td>-0.03425</td>\n",
       "      <td>-0.03036</td>\n",
       "      <td>-0.03512</td>\n",
       "      <td>-0.03949</td>\n",
       "      <td>-0.03325</td>\n",
       "      <td>-0.03318</td>\n",
       "    </tr>\n",
       "    <tr>\n",
       "      <th>50%</th>\n",
       "      <td>0.00538</td>\n",
       "      <td>-0.04464</td>\n",
       "      <td>-0.00728</td>\n",
       "      <td>-0.00567</td>\n",
       "      <td>-0.00432</td>\n",
       "      <td>-0.00382</td>\n",
       "      <td>-0.00658</td>\n",
       "      <td>-0.00259</td>\n",
       "      <td>-0.00195</td>\n",
       "      <td>-0.00108</td>\n",
       "    </tr>\n",
       "    <tr>\n",
       "      <th>75%</th>\n",
       "      <td>0.03808</td>\n",
       "      <td>0.05068</td>\n",
       "      <td>0.03125</td>\n",
       "      <td>0.03564</td>\n",
       "      <td>0.02836</td>\n",
       "      <td>0.02984</td>\n",
       "      <td>0.02931</td>\n",
       "      <td>0.03431</td>\n",
       "      <td>0.03243</td>\n",
       "      <td>0.02792</td>\n",
       "    </tr>\n",
       "    <tr>\n",
       "      <th>max</th>\n",
       "      <td>0.11073</td>\n",
       "      <td>0.05068</td>\n",
       "      <td>0.17056</td>\n",
       "      <td>0.13204</td>\n",
       "      <td>0.15391</td>\n",
       "      <td>0.19879</td>\n",
       "      <td>0.18118</td>\n",
       "      <td>0.18523</td>\n",
       "      <td>0.13360</td>\n",
       "      <td>0.13561</td>\n",
       "    </tr>\n",
       "  </tbody>\n",
       "</table>\n",
       "</div>"
      ],
      "text/plain": [
       "             age        sex        bmi         bp         s1         s2  \\\n",
       "count  442.00000  442.00000  442.00000  442.00000  442.00000  442.00000   \n",
       "mean    -0.00000    0.00000   -0.00000    0.00000   -0.00000    0.00000   \n",
       "std      0.04762    0.04762    0.04762    0.04762    0.04762    0.04762   \n",
       "min     -0.10723   -0.04464   -0.09028   -0.11240   -0.12678   -0.11561   \n",
       "25%     -0.03730   -0.04464   -0.03423   -0.03666   -0.03425   -0.03036   \n",
       "50%      0.00538   -0.04464   -0.00728   -0.00567   -0.00432   -0.00382   \n",
       "75%      0.03808    0.05068    0.03125    0.03564    0.02836    0.02984   \n",
       "max      0.11073    0.05068    0.17056    0.13204    0.15391    0.19879   \n",
       "\n",
       "              s3         s4         s5         s6  \n",
       "count  442.00000  442.00000  442.00000  442.00000  \n",
       "mean    -0.00000    0.00000   -0.00000   -0.00000  \n",
       "std      0.04762    0.04762    0.04762    0.04762  \n",
       "min     -0.10231   -0.07639   -0.12610   -0.13777  \n",
       "25%     -0.03512   -0.03949   -0.03325   -0.03318  \n",
       "50%     -0.00658   -0.00259   -0.00195   -0.00108  \n",
       "75%      0.02931    0.03431    0.03243    0.02792  \n",
       "max      0.18118    0.18523    0.13360    0.13561  "
      ]
     },
     "execution_count": 24,
     "metadata": {},
     "output_type": "execute_result"
    }
   ],
   "source": [
    "features_df.describe().round(5)"
   ]
  },
  {
   "cell_type": "markdown",
   "id": "89117982-b459-4878-982e-64e78f824885",
   "metadata": {},
   "source": [
    "Find the column in features_df that has the highest correlation coefficient with the target values in target_df"
   ]
  },
  {
   "cell_type": "code",
   "execution_count": 28,
   "id": "667d1dce-7d7e-4397-8819-6b26e665bf53",
   "metadata": {},
   "outputs": [
    {
     "name": "stdout",
     "output_type": "stream",
     "text": [
      "[0.18788875071891983, 0.0430619984516054, 0.5864501344746891, 0.4414838489308862, 0.2120224810145508, 0.17405358696874249, -0.39478925067091847, 0.4304528847447734, 0.5658834252428094, 0.3824834842485812]\n",
      "max correlation coefficient = bmi\n"
     ]
    }
   ],
   "source": [
    "columns = list(features_df.columns)\n",
    "correlateco = []\n",
    "for column in columns:\n",
    "    corr = np.corrcoef(features_df[column],target_df)\n",
    "    correlateco.append(corr[0,1])\n",
    "\n",
    "print(correlateco)\n",
    "print('max correlation coefficient =', columns[correlations.index(max(correlations))])"
   ]
  },
  {
   "cell_type": "markdown",
   "id": "7d307c48-e716-469c-a8a3-b669e25be04c",
   "metadata": {},
   "source": [
    "Make a scatter plot of the target values vs this feature column's values and comment on how the plotted points match up with the correlation coefficient"
   ]
  },
  {
   "cell_type": "code",
   "execution_count": 29,
   "id": "17a8da5f-5c11-4dc8-a6fc-a649dcb75607",
   "metadata": {},
   "outputs": [
    {
     "data": {
      "text/plain": [
       "<AxesSubplot:xlabel='features', ylabel='target'>"
      ]
     },
     "execution_count": 29,
     "metadata": {},
     "output_type": "execute_result"
    },
    {
     "data": {
      "image/png": "[encoded data removed]",
      "text/plain": [
       "<Figure size 432x288 with 1 Axes>"
      ]
     },
     "metadata": {
      "needs_background": "light"
     },
     "output_type": "display_data"
    }
   ],
   "source": [
    "featurestarget = pd.DataFrame({'features': features_df['bmi'],\n",
    "             'target': target_df},\n",
    "             columns = ['features', 'target'])\n",
    "\n",
    "featurestarget.plot(kind='scatter', x='features', y='target')"
   ]
  },
  {
   "cell_type": "markdown",
   "id": "3d696a73-dd71-4cd4-bbec-a36ad010b62a",
   "metadata": {},
   "source": [
    "There is a moderate positive correlation."
   ]
  },
  {
   "cell_type": "markdown",
   "id": "89e780cb-5f71-4393-bb32-f38b0e33f5ac",
   "metadata": {},
   "source": [
    "Using this feature and target, perform linear regression with sklearn's LinearRegression"
   ]
  },
  {
   "cell_type": "code",
   "execution_count": 31,
   "id": "afee175f-7d4a-4450-89fa-96c87ede826a",
   "metadata": {},
   "outputs": [],
   "source": [
    "x=features_df[['bmi']]\n",
    "y=target_df\n",
    "linereg = LinearRegression().fit(x, target_df)"
   ]
  },
  {
   "cell_type": "markdown",
   "id": "7ed05afc-aa4e-452f-a4d6-051973b6ab04",
   "metadata": {},
   "source": [
    "Print the coefficients of the model"
   ]
  },
  {
   "cell_type": "code",
   "execution_count": 33,
   "id": "5337f81c-83b3-412b-8e49-b681211102e3",
   "metadata": {},
   "outputs": [
    {
     "data": {
      "text/plain": [
       "array([949.43526038])"
      ]
     },
     "execution_count": 33,
     "metadata": {},
     "output_type": "execute_result"
    }
   ],
   "source": [
    "linereg.coef_"
   ]
  },
  {
   "cell_type": "markdown",
   "id": "f64b52d8-1ae1-4548-8de1-53cb90e69489",
   "metadata": {},
   "source": [
    "Plot the linear fit on top of the scatter plot"
   ]
  },
  {
   "cell_type": "code",
   "execution_count": 34,
   "id": "744c5c55-9c0e-4b98-bf63-5581dd67cfc8",
   "metadata": {},
   "outputs": [
    {
     "data": {
      "image/png": "[encoded data removed]",
      "text/plain": [
       "<Figure size 432x288 with 1 Axes>"
      ]
     },
     "metadata": {
      "needs_background": "light"
     },
     "output_type": "display_data"
    }
   ],
   "source": [
    "linereg.intercept_\n",
    "ytrain = linereg.intercept_ + linereg.coef_ * x\n",
    "plt.plot(x,y,'ro',x,ytrain,'b-');"
   ]
  },
  {
   "cell_type": "markdown",
   "id": "80d7b8f9-0a0e-421d-99a1-af157daea01c",
   "metadata": {},
   "source": [
    "\n",
    "Calculate (or output) the mean squared error and R-squared values for your fit"
   ]
  },
  {
   "cell_type": "code",
   "execution_count": 35,
   "id": "f8dc558a-bf20-49b0-8607-73554f7400ca",
   "metadata": {},
   "outputs": [
    {
     "name": "stdout",
     "output_type": "stream",
     "text": [
      "mean squared error = 3890.4565854612724\n",
      "r-squared value = 0.3439237602253803\n"
     ]
    }
   ],
   "source": [
    "print('mean squared error =', mean_squared_error(y, ytrain))\n",
    "print('r-squared value =', r2_score(y, ytrain))"
   ]
  },
  {
   "cell_type": "markdown",
   "id": "0e462e68-34d5-41b0-80dd-e7e0874f3f07",
   "metadata": {},
   "source": [
    "Try doing linear regression with another variable and check how the new fit's mean squared error and R-squared values change."
   ]
  },
  {
   "cell_type": "code",
   "execution_count": 38,
   "id": "65b4a5d1-82b4-4477-af8e-10717a891e81",
   "metadata": {},
   "outputs": [
    {
     "name": "stdout",
     "output_type": "stream",
     "text": [
      "min correlation coefficient = s3\n",
      "mean squared error = 5005.661620710653\n",
      "r-squared value = 0.1558585524453051\n"
     ]
    },
    {
     "data": {
      "image/png": "[encoded data removed]",
      "text/plain": [
       "<Figure size 432x288 with 1 Axes>"
      ]
     },
     "metadata": {
      "needs_background": "light"
     },
     "output_type": "display_data"
    }
   ],
   "source": [
    "print('min correlation coefficient =', columns[correlations.index(min(correlations))])\n",
    "x=features_df[['s3']]\n",
    "y=target_df\n",
    "linereg = LinearRegression().fit(x, target_df)\n",
    "ytrain = linereg.intercept_ + linereg.coef_ * x\n",
    "plt.plot(x,y,'ro',x,ytrain,'b-');\n",
    "print('mean squared error =', mean_squared_error(y, ytrain))\n",
    "print('r-squared value =', r2_score(y, ytrain))"
   ]
  },
  {
   "cell_type": "markdown",
   "id": "de562478-9217-4982-a839-05dd6de558da",
   "metadata": {},
   "source": [
    "The mean squared error is higher and the r-squared value is significantly lower than the initial linear regression. Moreover it also has a moderate negative correlation in the plot above."
   ]
  }
 ],
 "metadata": {
  "kernelspec": {
   "display_name": "Python 3 (ipykernel)",
   "language": "python",
   "name": "python3"
  },
  "language_info": {
   "codemirror_mode": {
    "name": "ipython",
    "version": 3
   },
   "file_extension": ".py",
   "mimetype": "text/x-python",
   "name": "python",
   "nbconvert_exporter": "python",
   "pygments_lexer": "ipython3",
   "version": "3.9.6"
  }
 },
 "nbformat": 4,
 "nbformat_minor": 5
}
