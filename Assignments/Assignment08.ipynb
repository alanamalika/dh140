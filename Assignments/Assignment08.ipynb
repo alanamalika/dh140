{
 "cells": [
  {
   "cell_type": "markdown",
   "id": "c093f7b1-1fdc-48f1-836b-cb21af5459e7",
   "metadata": {},
   "source": [
    "# Assignment 08: Network Analysis"
   ]
  },
  {
   "cell_type": "markdown",
   "id": "dbbe95ad-bea3-4c1b-84ed-216eec7f6245",
   "metadata": {},
   "source": [
    "## Step 1: Make a new Jupyter notebook."
   ]
  },
  {
   "cell_type": "code",
   "execution_count": 38,
   "id": "037e6a8d-f382-4c9a-aad1-54d59e00dc72",
   "metadata": {},
   "outputs": [],
   "source": [
    "import requests\n",
    "from bs4 import BeautifulSoup\n",
    "import dash\n",
    "import dash_cytoscape as cyto\n",
    "from dash import html, dcc\n",
    "from dash.dependencies import Input, Output\n",
    "from jupyter_dash import JupyterDash\n",
    "from jupyter_dash.comms import _send_jupyter_config_comm_request\n",
    "import networkx as nx\n",
    "import matplotlib.pyplot as plt\n"
   ]
  },
  {
   "cell_type": "markdown",
   "id": "a49a87b1-cf36-469c-b325-72af33238399",
   "metadata": {},
   "source": [
    "## Step 2: Take the Shakespeare play you've previously been analyzing and construct a network visualization"
   ]
  },
  {
   "cell_type": "code",
   "execution_count": 20,
   "id": "45011bb2-c3ac-494b-8c2d-9ffeb2b2bc99",
   "metadata": {},
   "outputs": [],
   "source": [
    "response = requests.get('https://www.gutenberg.org/files/1524/1524-h/1524-h.htm')\n",
    "html_string = response.text\n",
    "document = BeautifulSoup(html_string, \"html.parser\")\n",
    "document = document.text\n"
   ]
  },
  {
   "cell_type": "code",
   "execution_count": 22,
   "id": "dedad33d-8f5a-4e03-bf88-475bbbc8c72c",
   "metadata": {},
   "outputs": [],
   "source": [
    "_send_jupyter_config_comm_request()\n",
    "JupyterDash.infer_jupyter_proxy_config()"
   ]
  },
  {
   "cell_type": "code",
   "execution_count": 23,
   "id": "ae31ec29-29c8-4965-b690-5a33d775a601",
   "metadata": {},
   "outputs": [
    {
     "data": {
      "text/plain": [
       "5"
      ]
     },
     "execution_count": 23,
     "metadata": {},
     "output_type": "execute_result"
    }
   ],
   "source": [
    "document = document[document.find('ACT I'):document.find('*** END OF THE PROJECT GUTENBERG EBOOK HAMLET ***')]\n",
    "acts = document.split('ACT')[1:]\n",
    "len(acts)\n"
   ]
  },
  {
   "cell_type": "code",
   "execution_count": 26,
   "id": "00b48273-61e3-496c-aadf-af453fe72e96",
   "metadata": {},
   "outputs": [],
   "source": [
    "characters = ['HAMLET','CLAUDIUS','THE GHOST','GERTRUDE','LAERTES',\n",
    "              'OPHELIA','HORATIO','FORTINBRAS','VOLTEMAND','CORNELIUS',\n",
    "              'ROSENCRANTZ','GUILDENSTERN','MARCELLUS','BARNARDO',\n",
    "              'FRANCISCO','OSRIC','REYNALDO']"
   ]
  },
  {
   "cell_type": "code",
   "execution_count": 27,
   "id": "18c77af7-0ffc-49fc-82bd-6ca11bd1f08d",
   "metadata": {},
   "outputs": [],
   "source": [
    "charnum = {}\n",
    "\n",
    "connections = {}\n",
    "\n",
    "for i in range(len(characters)-1):\n",
    "    for j in range(i+1,len(characters)):\n",
    "        connections[(characters[i],characters[j])] = 0\n",
    "\n",
    "for k in characters:\n",
    "    charnum[k] = 0\n",
    "\n",
    "for i in acts:\n",
    "    for j in i.split('SCENE')[1:]:\n",
    "        scenechars = []\n",
    "        for k in characters:\n",
    "            if j.find(k) != -1:\n",
    "                scenechars.append(k)\n",
    "                charnum[k] += 1\n",
    "        for a in range(len(scenechars)-1):\n",
    "            for b in range(a+1,len(scenechars)):\n",
    "                connections[(scenechars[a],scenechars[b])] += 1"
   ]
  },
  {
   "cell_type": "code",
   "execution_count": 28,
   "id": "a15d54f5-0848-4a4e-bd17-67608d819cbe",
   "metadata": {},
   "outputs": [
    {
     "data": {
      "text/plain": [
       "{('HAMLET', 'CLAUDIUS'): 0,\n",
       " ('HAMLET', 'THE GHOST'): 0,\n",
       " ('HAMLET', 'GERTRUDE'): 0,\n",
       " ('HAMLET', 'LAERTES'): 4,\n",
       " ('HAMLET', 'OPHELIA'): 2,\n",
       " ('HAMLET', 'HORATIO'): 7,\n",
       " ('HAMLET', 'FORTINBRAS'): 2,\n",
       " ('HAMLET', 'VOLTEMAND'): 2,\n",
       " ('HAMLET', 'CORNELIUS'): 1,\n",
       " ('HAMLET', 'ROSENCRANTZ'): 7,\n",
       " ('HAMLET', 'GUILDENSTERN'): 5,\n",
       " ('HAMLET', 'MARCELLUS'): 3,\n",
       " ('HAMLET', 'BARNARDO'): 1,\n",
       " ('HAMLET', 'FRANCISCO'): 0,\n",
       " ('HAMLET', 'OSRIC'): 1,\n",
       " ('HAMLET', 'REYNALDO'): 0,\n",
       " ('CLAUDIUS', 'THE GHOST'): 0,\n",
       " ('CLAUDIUS', 'GERTRUDE'): 0,\n",
       " ('CLAUDIUS', 'LAERTES'): 0,\n",
       " ('CLAUDIUS', 'OPHELIA'): 0,\n",
       " ('CLAUDIUS', 'HORATIO'): 0,\n",
       " ('CLAUDIUS', 'FORTINBRAS'): 0,\n",
       " ('CLAUDIUS', 'VOLTEMAND'): 0,\n",
       " ('CLAUDIUS', 'CORNELIUS'): 0,\n",
       " ('CLAUDIUS', 'ROSENCRANTZ'): 0,\n",
       " ('CLAUDIUS', 'GUILDENSTERN'): 0,\n",
       " ('CLAUDIUS', 'MARCELLUS'): 0,\n",
       " ('CLAUDIUS', 'BARNARDO'): 0,\n",
       " ('CLAUDIUS', 'FRANCISCO'): 0,\n",
       " ('CLAUDIUS', 'OSRIC'): 0,\n",
       " ('CLAUDIUS', 'REYNALDO'): 0,\n",
       " ('THE GHOST', 'GERTRUDE'): 0,\n",
       " ('THE GHOST', 'LAERTES'): 0,\n",
       " ('THE GHOST', 'OPHELIA'): 0,\n",
       " ('THE GHOST', 'HORATIO'): 0,\n",
       " ('THE GHOST', 'FORTINBRAS'): 0,\n",
       " ('THE GHOST', 'VOLTEMAND'): 0,\n",
       " ('THE GHOST', 'CORNELIUS'): 0,\n",
       " ('THE GHOST', 'ROSENCRANTZ'): 0,\n",
       " ('THE GHOST', 'GUILDENSTERN'): 0,\n",
       " ('THE GHOST', 'MARCELLUS'): 0,\n",
       " ('THE GHOST', 'BARNARDO'): 0,\n",
       " ('THE GHOST', 'FRANCISCO'): 0,\n",
       " ('THE GHOST', 'OSRIC'): 0,\n",
       " ('THE GHOST', 'REYNALDO'): 0,\n",
       " ('GERTRUDE', 'LAERTES'): 0,\n",
       " ('GERTRUDE', 'OPHELIA'): 0,\n",
       " ('GERTRUDE', 'HORATIO'): 0,\n",
       " ('GERTRUDE', 'FORTINBRAS'): 0,\n",
       " ('GERTRUDE', 'VOLTEMAND'): 0,\n",
       " ('GERTRUDE', 'CORNELIUS'): 0,\n",
       " ('GERTRUDE', 'ROSENCRANTZ'): 0,\n",
       " ('GERTRUDE', 'GUILDENSTERN'): 0,\n",
       " ('GERTRUDE', 'MARCELLUS'): 0,\n",
       " ('GERTRUDE', 'BARNARDO'): 0,\n",
       " ('GERTRUDE', 'FRANCISCO'): 0,\n",
       " ('GERTRUDE', 'OSRIC'): 0,\n",
       " ('GERTRUDE', 'REYNALDO'): 0,\n",
       " ('LAERTES', 'OPHELIA'): 2,\n",
       " ('LAERTES', 'HORATIO'): 3,\n",
       " ('LAERTES', 'FORTINBRAS'): 1,\n",
       " ('LAERTES', 'VOLTEMAND'): 1,\n",
       " ('LAERTES', 'CORNELIUS'): 1,\n",
       " ('LAERTES', 'ROSENCRANTZ'): 0,\n",
       " ('LAERTES', 'GUILDENSTERN'): 0,\n",
       " ('LAERTES', 'MARCELLUS'): 1,\n",
       " ('LAERTES', 'BARNARDO'): 1,\n",
       " ('LAERTES', 'FRANCISCO'): 0,\n",
       " ('LAERTES', 'OSRIC'): 1,\n",
       " ('LAERTES', 'REYNALDO'): 0,\n",
       " ('OPHELIA', 'HORATIO'): 1,\n",
       " ('OPHELIA', 'FORTINBRAS'): 0,\n",
       " ('OPHELIA', 'VOLTEMAND'): 0,\n",
       " ('OPHELIA', 'CORNELIUS'): 0,\n",
       " ('OPHELIA', 'ROSENCRANTZ'): 2,\n",
       " ('OPHELIA', 'GUILDENSTERN'): 2,\n",
       " ('OPHELIA', 'MARCELLUS'): 0,\n",
       " ('OPHELIA', 'BARNARDO'): 0,\n",
       " ('OPHELIA', 'FRANCISCO'): 0,\n",
       " ('OPHELIA', 'OSRIC'): 0,\n",
       " ('OPHELIA', 'REYNALDO'): 1,\n",
       " ('HORATIO', 'FORTINBRAS'): 1,\n",
       " ('HORATIO', 'VOLTEMAND'): 1,\n",
       " ('HORATIO', 'CORNELIUS'): 1,\n",
       " ('HORATIO', 'ROSENCRANTZ'): 1,\n",
       " ('HORATIO', 'GUILDENSTERN'): 1,\n",
       " ('HORATIO', 'MARCELLUS'): 4,\n",
       " ('HORATIO', 'BARNARDO'): 2,\n",
       " ('HORATIO', 'FRANCISCO'): 1,\n",
       " ('HORATIO', 'OSRIC'): 1,\n",
       " ('HORATIO', 'REYNALDO'): 0,\n",
       " ('FORTINBRAS', 'VOLTEMAND'): 0,\n",
       " ('FORTINBRAS', 'CORNELIUS'): 0,\n",
       " ('FORTINBRAS', 'ROSENCRANTZ'): 1,\n",
       " ('FORTINBRAS', 'GUILDENSTERN'): 0,\n",
       " ('FORTINBRAS', 'MARCELLUS'): 0,\n",
       " ('FORTINBRAS', 'BARNARDO'): 0,\n",
       " ('FORTINBRAS', 'FRANCISCO'): 0,\n",
       " ('FORTINBRAS', 'OSRIC'): 1,\n",
       " ('FORTINBRAS', 'REYNALDO'): 0,\n",
       " ('VOLTEMAND', 'CORNELIUS'): 1,\n",
       " ('VOLTEMAND', 'ROSENCRANTZ'): 1,\n",
       " ('VOLTEMAND', 'GUILDENSTERN'): 1,\n",
       " ('VOLTEMAND', 'MARCELLUS'): 1,\n",
       " ('VOLTEMAND', 'BARNARDO'): 1,\n",
       " ('VOLTEMAND', 'FRANCISCO'): 0,\n",
       " ('VOLTEMAND', 'OSRIC'): 0,\n",
       " ('VOLTEMAND', 'REYNALDO'): 0,\n",
       " ('CORNELIUS', 'ROSENCRANTZ'): 0,\n",
       " ('CORNELIUS', 'GUILDENSTERN'): 0,\n",
       " ('CORNELIUS', 'MARCELLUS'): 1,\n",
       " ('CORNELIUS', 'BARNARDO'): 1,\n",
       " ('CORNELIUS', 'FRANCISCO'): 0,\n",
       " ('CORNELIUS', 'OSRIC'): 0,\n",
       " ('CORNELIUS', 'REYNALDO'): 0,\n",
       " ('ROSENCRANTZ', 'GUILDENSTERN'): 5,\n",
       " ('ROSENCRANTZ', 'MARCELLUS'): 0,\n",
       " ('ROSENCRANTZ', 'BARNARDO'): 0,\n",
       " ('ROSENCRANTZ', 'FRANCISCO'): 0,\n",
       " ('ROSENCRANTZ', 'OSRIC'): 0,\n",
       " ('ROSENCRANTZ', 'REYNALDO'): 0,\n",
       " ('GUILDENSTERN', 'MARCELLUS'): 0,\n",
       " ('GUILDENSTERN', 'BARNARDO'): 0,\n",
       " ('GUILDENSTERN', 'FRANCISCO'): 0,\n",
       " ('GUILDENSTERN', 'OSRIC'): 0,\n",
       " ('GUILDENSTERN', 'REYNALDO'): 0,\n",
       " ('MARCELLUS', 'BARNARDO'): 2,\n",
       " ('MARCELLUS', 'FRANCISCO'): 1,\n",
       " ('MARCELLUS', 'OSRIC'): 0,\n",
       " ('MARCELLUS', 'REYNALDO'): 0,\n",
       " ('BARNARDO', 'FRANCISCO'): 1,\n",
       " ('BARNARDO', 'OSRIC'): 0,\n",
       " ('BARNARDO', 'REYNALDO'): 0,\n",
       " ('FRANCISCO', 'OSRIC'): 0,\n",
       " ('FRANCISCO', 'REYNALDO'): 0,\n",
       " ('OSRIC', 'REYNALDO'): 0}"
      ]
     },
     "execution_count": 28,
     "metadata": {},
     "output_type": "execute_result"
    }
   ],
   "source": [
    "connections"
   ]
  },
  {
   "cell_type": "code",
   "execution_count": 29,
   "id": "0e468633-1bb7-4862-a65a-01bf360dc2b5",
   "metadata": {},
   "outputs": [
    {
     "name": "stdout",
     "output_type": "stream",
     "text": [
      "HAMLET 15\n",
      "CLAUDIUS 0\n",
      "THE GHOST 0\n",
      "GERTRUDE 0\n",
      "LAERTES 6\n",
      "OPHELIA 5\n",
      "HORATIO 8\n",
      "FORTINBRAS 2\n",
      "VOLTEMAND 2\n",
      "CORNELIUS 1\n",
      "ROSENCRANTZ 7\n",
      "GUILDENSTERN 5\n",
      "MARCELLUS 4\n",
      "BARNARDO 2\n",
      "FRANCISCO 1\n",
      "OSRIC 1\n",
      "REYNALDO 1\n"
     ]
    }
   ],
   "source": [
    "for k,v in charnum.items():\n",
    "    print(k,v)"
   ]
  },
  {
   "cell_type": "code",
   "execution_count": 34,
   "id": "7d2ceee3-8a36-41e4-bd63-ca2f35c8002a",
   "metadata": {
    "collapsed": true,
    "jupyter": {
     "outputs_hidden": true
    },
    "tags": []
   },
   "outputs": [
    {
     "data": {
      "text/plain": [
       "[{'data': {'id': 'HAMLET', 'label': 'Hamlet', 'size': '15'}},\n",
       " {'data': {'id': 'CLAUDIUS', 'label': 'Claudius', 'size': '0'}},\n",
       " {'data': {'id': 'THE GHOST', 'label': 'The Ghost', 'size': '0'}},\n",
       " {'data': {'id': 'GERTRUDE', 'label': 'Gertrude', 'size': '0'}},\n",
       " {'data': {'id': 'LAERTES', 'label': 'Laertes', 'size': '6'}},\n",
       " {'data': {'id': 'OPHELIA', 'label': 'Ophelia', 'size': '5'}},\n",
       " {'data': {'id': 'HORATIO', 'label': 'Horatio', 'size': '8'}},\n",
       " {'data': {'id': 'FORTINBRAS', 'label': 'Fortinbras', 'size': '2'}},\n",
       " {'data': {'id': 'VOLTEMAND', 'label': 'Voltemand', 'size': '2'}},\n",
       " {'data': {'id': 'CORNELIUS', 'label': 'Cornelius', 'size': '1'}},\n",
       " {'data': {'id': 'ROSENCRANTZ', 'label': 'Rosencrantz', 'size': '7'}},\n",
       " {'data': {'id': 'GUILDENSTERN', 'label': 'Guildenstern', 'size': '5'}},\n",
       " {'data': {'id': 'MARCELLUS', 'label': 'Marcellus', 'size': '4'}},\n",
       " {'data': {'id': 'BARNARDO', 'label': 'Barnardo', 'size': '2'}},\n",
       " {'data': {'id': 'FRANCISCO', 'label': 'Francisco', 'size': '1'}},\n",
       " {'data': {'id': 'OSRIC', 'label': 'Osric', 'size': '1'}},\n",
       " {'data': {'id': 'REYNALDO', 'label': 'Reynaldo', 'size': '1'}}]"
      ]
     },
     "execution_count": 34,
     "metadata": {},
     "output_type": "execute_result"
    }
   ],
   "source": [
    "graphitems = []\n",
    "\n",
    "for k,v in charnum.items():\n",
    "    dashnode = {'data': {'id': k,\n",
    "                         'label': k.title(),\n",
    "                         'size': str(v)}}\n",
    "    graphitems.append(dashnode)\n",
    "    \n",
    "graphitems"
   ]
  },
  {
   "cell_type": "code",
   "execution_count": 35,
   "id": "ee72a680-866e-42c5-b56b-91b30f7ecfac",
   "metadata": {
    "collapsed": true,
    "jupyter": {
     "outputs_hidden": true
    },
    "tags": []
   },
   "outputs": [
    {
     "data": {
      "text/plain": [
       "[{'data': {'id': 'HAMLET', 'label': 'Hamlet', 'size': '15'}},\n",
       " {'data': {'id': 'CLAUDIUS', 'label': 'Claudius', 'size': '0'}},\n",
       " {'data': {'id': 'THE GHOST', 'label': 'The Ghost', 'size': '0'}},\n",
       " {'data': {'id': 'GERTRUDE', 'label': 'Gertrude', 'size': '0'}},\n",
       " {'data': {'id': 'LAERTES', 'label': 'Laertes', 'size': '6'}},\n",
       " {'data': {'id': 'OPHELIA', 'label': 'Ophelia', 'size': '5'}},\n",
       " {'data': {'id': 'HORATIO', 'label': 'Horatio', 'size': '8'}},\n",
       " {'data': {'id': 'FORTINBRAS', 'label': 'Fortinbras', 'size': '2'}},\n",
       " {'data': {'id': 'VOLTEMAND', 'label': 'Voltemand', 'size': '2'}},\n",
       " {'data': {'id': 'CORNELIUS', 'label': 'Cornelius', 'size': '1'}},\n",
       " {'data': {'id': 'ROSENCRANTZ', 'label': 'Rosencrantz', 'size': '7'}},\n",
       " {'data': {'id': 'GUILDENSTERN', 'label': 'Guildenstern', 'size': '5'}},\n",
       " {'data': {'id': 'MARCELLUS', 'label': 'Marcellus', 'size': '4'}},\n",
       " {'data': {'id': 'BARNARDO', 'label': 'Barnardo', 'size': '2'}},\n",
       " {'data': {'id': 'FRANCISCO', 'label': 'Francisco', 'size': '1'}},\n",
       " {'data': {'id': 'OSRIC', 'label': 'Osric', 'size': '1'}},\n",
       " {'data': {'id': 'REYNALDO', 'label': 'Reynaldo', 'size': '1'}},\n",
       " {'data': {'source': 'HAMLET', 'target': 'LAERTES', 'weight': 4}},\n",
       " {'data': {'source': 'HAMLET', 'target': 'OPHELIA', 'weight': 2}},\n",
       " {'data': {'source': 'HAMLET', 'target': 'HORATIO', 'weight': 7}},\n",
       " {'data': {'source': 'HAMLET', 'target': 'FORTINBRAS', 'weight': 2}},\n",
       " {'data': {'source': 'HAMLET', 'target': 'VOLTEMAND', 'weight': 2}},\n",
       " {'data': {'source': 'HAMLET', 'target': 'CORNELIUS', 'weight': 1}},\n",
       " {'data': {'source': 'HAMLET', 'target': 'ROSENCRANTZ', 'weight': 7}},\n",
       " {'data': {'source': 'HAMLET', 'target': 'GUILDENSTERN', 'weight': 5}},\n",
       " {'data': {'source': 'HAMLET', 'target': 'MARCELLUS', 'weight': 3}},\n",
       " {'data': {'source': 'HAMLET', 'target': 'BARNARDO', 'weight': 1}},\n",
       " {'data': {'source': 'HAMLET', 'target': 'OSRIC', 'weight': 1}},\n",
       " {'data': {'source': 'LAERTES', 'target': 'OPHELIA', 'weight': 2}},\n",
       " {'data': {'source': 'LAERTES', 'target': 'HORATIO', 'weight': 3}},\n",
       " {'data': {'source': 'LAERTES', 'target': 'FORTINBRAS', 'weight': 1}},\n",
       " {'data': {'source': 'LAERTES', 'target': 'VOLTEMAND', 'weight': 1}},\n",
       " {'data': {'source': 'LAERTES', 'target': 'CORNELIUS', 'weight': 1}},\n",
       " {'data': {'source': 'LAERTES', 'target': 'MARCELLUS', 'weight': 1}},\n",
       " {'data': {'source': 'LAERTES', 'target': 'BARNARDO', 'weight': 1}},\n",
       " {'data': {'source': 'LAERTES', 'target': 'OSRIC', 'weight': 1}},\n",
       " {'data': {'source': 'OPHELIA', 'target': 'HORATIO', 'weight': 1}},\n",
       " {'data': {'source': 'OPHELIA', 'target': 'ROSENCRANTZ', 'weight': 2}},\n",
       " {'data': {'source': 'OPHELIA', 'target': 'GUILDENSTERN', 'weight': 2}},\n",
       " {'data': {'source': 'OPHELIA', 'target': 'REYNALDO', 'weight': 1}},\n",
       " {'data': {'source': 'HORATIO', 'target': 'FORTINBRAS', 'weight': 1}},\n",
       " {'data': {'source': 'HORATIO', 'target': 'VOLTEMAND', 'weight': 1}},\n",
       " {'data': {'source': 'HORATIO', 'target': 'CORNELIUS', 'weight': 1}},\n",
       " {'data': {'source': 'HORATIO', 'target': 'ROSENCRANTZ', 'weight': 1}},\n",
       " {'data': {'source': 'HORATIO', 'target': 'GUILDENSTERN', 'weight': 1}},\n",
       " {'data': {'source': 'HORATIO', 'target': 'MARCELLUS', 'weight': 4}},\n",
       " {'data': {'source': 'HORATIO', 'target': 'BARNARDO', 'weight': 2}},\n",
       " {'data': {'source': 'HORATIO', 'target': 'FRANCISCO', 'weight': 1}},\n",
       " {'data': {'source': 'HORATIO', 'target': 'OSRIC', 'weight': 1}},\n",
       " {'data': {'source': 'FORTINBRAS', 'target': 'ROSENCRANTZ', 'weight': 1}},\n",
       " {'data': {'source': 'FORTINBRAS', 'target': 'OSRIC', 'weight': 1}},\n",
       " {'data': {'source': 'VOLTEMAND', 'target': 'CORNELIUS', 'weight': 1}},\n",
       " {'data': {'source': 'VOLTEMAND', 'target': 'ROSENCRANTZ', 'weight': 1}},\n",
       " {'data': {'source': 'VOLTEMAND', 'target': 'GUILDENSTERN', 'weight': 1}},\n",
       " {'data': {'source': 'VOLTEMAND', 'target': 'MARCELLUS', 'weight': 1}},\n",
       " {'data': {'source': 'VOLTEMAND', 'target': 'BARNARDO', 'weight': 1}},\n",
       " {'data': {'source': 'CORNELIUS', 'target': 'MARCELLUS', 'weight': 1}},\n",
       " {'data': {'source': 'CORNELIUS', 'target': 'BARNARDO', 'weight': 1}},\n",
       " {'data': {'source': 'ROSENCRANTZ', 'target': 'GUILDENSTERN', 'weight': 5}},\n",
       " {'data': {'source': 'MARCELLUS', 'target': 'BARNARDO', 'weight': 2}},\n",
       " {'data': {'source': 'MARCELLUS', 'target': 'FRANCISCO', 'weight': 1}},\n",
       " {'data': {'source': 'BARNARDO', 'target': 'FRANCISCO', 'weight': 1}}]"
      ]
     },
     "execution_count": 35,
     "metadata": {},
     "output_type": "execute_result"
    }
   ],
   "source": [
    "graphitems = []\n",
    "\n",
    "for k,v in charnum.items():\n",
    "    dashnode = {'data': {'id': k,\n",
    "                         'label': k.title(),\n",
    "                         'size': str(v)}}\n",
    "    graphitems.append(dashnode)\n",
    "\n",
    "for k,v in connections.items():\n",
    "    if v != 0:\n",
    "        dashedge = {'data': {'source': k[0],\n",
    "                             'target': k[1],\n",
    "                             'weight': v}}\n",
    "        graphitems.append(dashedge)\n",
    "    \n",
    "graphitems"
   ]
  },
  {
   "cell_type": "code",
   "execution_count": 36,
   "id": "8dd3e70d-e459-4996-a38d-5bb2e1e9fddd",
   "metadata": {},
   "outputs": [
    {
     "name": "stdout",
     "output_type": "stream",
     "text": [
      "7\n"
     ]
    }
   ],
   "source": [
    "graphitems = []\n",
    "\n",
    "for k,v in charnum.items():\n",
    "    dashnode = {'data': {'id': k,\n",
    "                         'label': k.title(),\n",
    "                         'size': str(v)}}\n",
    "    graphitems.append(dashnode)\n",
    "\n",
    "correctionfactor = max(connections.values())\n",
    "print(correctionfactor)\n",
    "for k,v in connections.items():\n",
    "    if v != 0:\n",
    "        dashedge = {'data': {'source': k[0],\n",
    "                             'target': k[1],\n",
    "                             'weight': v/correction_factor}}\n",
    "        graphitems.append(dashedge)"
   ]
  },
  {
   "cell_type": "code",
   "execution_count": 37,
   "id": "1e792d55-7e40-446f-88a1-eb84796e7311",
   "metadata": {},
   "outputs": [
    {
     "name": "stdout",
     "output_type": "stream",
     "text": [
      "Dash app running on https://jupyter.idre.ucla.edu/user/alana.malika129@gmail.com/proxy/8050/\n"
     ]
    }
   ],
   "source": [
    "app = JupyterDash(__name__)\n",
    "\n",
    "app.layout = html.Div([\n",
    "    cyto.Cytoscape(\n",
    "        layout={'name': 'cose'},\n",
    "        elements=graphitems,\n",
    "        style={'width': '100%', 'height': '750px'},\n",
    "        stylesheet=[\n",
    "            {\n",
    "                'selector': 'node',\n",
    "                'style': {\n",
    "                    'content':'data(label)',\n",
    "                    'text-halign':'center',\n",
    "                    'text-valign':'center',\n",
    "                    'width': 'data(size)',\n",
    "                    'height': 'data(size)',\n",
    "                    'font-size':4,\n",
    "                    'color': 'black',\n",
    "                    'background-color': 'blue',\n",
    "                    'text-outline-color': 'white',\n",
    "                    'text-outline-width': 0.2,\n",
    "                    'shape':'circle'\n",
    "                }\n",
    "            },\n",
    "            {\n",
    "                'selector':'edge',\n",
    "                'style': {\n",
    "                    'width':'data(weight)',\n",
    "                    'line-color': 'blue',\n",
    "                  }\n",
    "            },\n",
    "        ]\n",
    "    )\n",
    "])\n",
    "\n",
    "app.run_server(debug=True)"
   ]
  },
  {
   "cell_type": "markdown",
   "id": "d580ce6d-ee5a-4338-b914-8d65f4058503",
   "metadata": {},
   "source": [
    "Also include a description (via markdown cells) of the network's density and the \"most important\" nodes.\n",
    "You can choose what \"most important\" means, but use a quantitative metric and include this metric's value(s) in your description."
   ]
  },
  {
   "cell_type": "code",
   "execution_count": 39,
   "id": "a8a7686b-afdb-46a8-a022-88301fb5c9c1",
   "metadata": {},
   "outputs": [
    {
     "data": {
      "text/plain": [
       "[('HAMLET', 'LAERTES'),\n",
       " ('HAMLET', 'OPHELIA'),\n",
       " ('HAMLET', 'HORATIO'),\n",
       " ('HAMLET', 'FORTINBRAS'),\n",
       " ('HAMLET', 'VOLTEMAND'),\n",
       " ('HAMLET', 'CORNELIUS'),\n",
       " ('HAMLET', 'ROSENCRANTZ'),\n",
       " ('HAMLET', 'GUILDENSTERN'),\n",
       " ('HAMLET', 'MARCELLUS'),\n",
       " ('HAMLET', 'BARNARDO'),\n",
       " ('HAMLET', 'OSRIC'),\n",
       " ('LAERTES', 'OPHELIA'),\n",
       " ('LAERTES', 'HORATIO'),\n",
       " ('LAERTES', 'FORTINBRAS'),\n",
       " ('LAERTES', 'VOLTEMAND'),\n",
       " ('LAERTES', 'CORNELIUS'),\n",
       " ('LAERTES', 'MARCELLUS'),\n",
       " ('LAERTES', 'BARNARDO'),\n",
       " ('LAERTES', 'OSRIC'),\n",
       " ('OPHELIA', 'HORATIO'),\n",
       " ('OPHELIA', 'ROSENCRANTZ'),\n",
       " ('OPHELIA', 'GUILDENSTERN'),\n",
       " ('OPHELIA', 'REYNALDO'),\n",
       " ('HORATIO', 'FORTINBRAS'),\n",
       " ('HORATIO', 'VOLTEMAND'),\n",
       " ('HORATIO', 'CORNELIUS'),\n",
       " ('HORATIO', 'ROSENCRANTZ'),\n",
       " ('HORATIO', 'GUILDENSTERN'),\n",
       " ('HORATIO', 'MARCELLUS'),\n",
       " ('HORATIO', 'BARNARDO'),\n",
       " ('HORATIO', 'FRANCISCO'),\n",
       " ('HORATIO', 'OSRIC'),\n",
       " ('FORTINBRAS', 'ROSENCRANTZ'),\n",
       " ('FORTINBRAS', 'OSRIC'),\n",
       " ('VOLTEMAND', 'CORNELIUS'),\n",
       " ('VOLTEMAND', 'ROSENCRANTZ'),\n",
       " ('VOLTEMAND', 'GUILDENSTERN'),\n",
       " ('VOLTEMAND', 'MARCELLUS'),\n",
       " ('VOLTEMAND', 'BARNARDO'),\n",
       " ('CORNELIUS', 'MARCELLUS'),\n",
       " ('CORNELIUS', 'BARNARDO'),\n",
       " ('ROSENCRANTZ', 'GUILDENSTERN'),\n",
       " ('MARCELLUS', 'BARNARDO'),\n",
       " ('MARCELLUS', 'FRANCISCO'),\n",
       " ('BARNARDO', 'FRANCISCO')]"
      ]
     },
     "execution_count": 39,
     "metadata": {},
     "output_type": "execute_result"
    }
   ],
   "source": [
    "nxgraphitems = []\n",
    "\n",
    "# for k,v in charnum.items():\n",
    "#     dashnode = k\n",
    "#     graphitems.append(dashnode)\n",
    "\n",
    "for k,v in connections.items():\n",
    "    if v != 0:\n",
    "        dashedge = (k[0],k[1])\n",
    "        nxgraphitems.append(dashedge)\n",
    "    \n",
    "nxgraphitems"
   ]
  },
  {
   "cell_type": "code",
   "execution_count": 40,
   "id": "9cb8f209-837d-4825-a2ac-5d8eab2a68d2",
   "metadata": {},
   "outputs": [],
   "source": [
    "G = nx.Graph()"
   ]
  },
  {
   "cell_type": "code",
   "execution_count": 41,
   "id": "7923d9f3-c150-4f32-b887-1dc8952cd974",
   "metadata": {},
   "outputs": [
    {
     "data": {
      "text/plain": [
       "NodeView(())"
      ]
     },
     "execution_count": 41,
     "metadata": {},
     "output_type": "execute_result"
    }
   ],
   "source": [
    "G.nodes"
   ]
  },
  {
   "cell_type": "code",
   "execution_count": 43,
   "id": "8980bae6-be8e-4178-8940-c185c87556ff",
   "metadata": {},
   "outputs": [
    {
     "data": {
      "text/plain": [
       "{}"
      ]
     },
     "execution_count": 43,
     "metadata": {},
     "output_type": "execute_result"
    }
   ],
   "source": [
    "nx.degree_centrality(G)"
   ]
  },
  {
   "cell_type": "code",
   "execution_count": 46,
   "id": "60b7b8a1-3b11-4d5f-963e-f634ee2a6565",
   "metadata": {},
   "outputs": [
    {
     "name": "stdout",
     "output_type": "stream",
     "text": [
      "Horatio        : 0.923\n",
      "Hamlet         : 0.846\n",
      "Laertes        : 0.692\n",
      "Voltemand      : 0.615\n",
      "Marcellus      : 0.538\n",
      "Barnardo       : 0.538\n",
      "Ophelia        : 0.462\n",
      "Cornelius      : 0.462\n",
      "Rosencrantz    : 0.462\n",
      "Fortinbras     : 0.385\n",
      "Guildenstern   : 0.385\n",
      "Osric          : 0.308\n",
      "Francisco      : 0.231\n",
      "Reynaldo       : 0.077\n"
     ]
    }
   ],
   "source": [
    "G.add_edges_from(nxgraphitems)\n",
    "\n",
    "dc = nx.degree_centrality(G)\n",
    "for i in sorted(dc, key=dc.get, reverse=True):\n",
    "    print('{:15s}: {:.3f}'.format(i.title(), dc[i]))\n"
   ]
  },
  {
   "cell_type": "markdown",
   "id": "b5e1f9ec-55e9-430e-bd9f-cd5048a8d35d",
   "metadata": {},
   "source": [
    "Horatio is the \"most important\" node which has a 0.923 degree centrality."
   ]
  },
  {
   "cell_type": "code",
   "execution_count": 47,
   "id": "f90a7b2b-5019-4015-a2dc-29c65e77be88",
   "metadata": {},
   "outputs": [],
   "source": [
    "from networkx.algorithms.community import greedy_modularity_communities"
   ]
  },
  {
   "cell_type": "code",
   "execution_count": 52,
   "id": "dcf3d009-366e-4a88-ac85-1312030cc174",
   "metadata": {},
   "outputs": [
    {
     "name": "stdout",
     "output_type": "stream",
     "text": [
      "[['FRANCISCO', 'VOLTEMAND', 'BARNARDO', 'MARCELLUS', 'HORATIO', 'CORNELIUS'], ['HAMLET', 'OSRIC', 'LAERTES', 'FORTINBRAS'], ['OPHELIA', 'REYNALDO', 'ROSENCRANTZ', 'GUILDENSTERN']]\n"
     ]
    },
    {
     "data": {
      "image/png": "[encoded data removed]",
      "text/plain": [
       "<Figure size 432x288 with 1 Axes>"
      ]
     },
     "metadata": {},
     "output_type": "display_data"
    }
   ],
   "source": [
    "greedy_modularity_communities(G)\n",
    "communities = greedy_modularity_communities(G)\n",
    "# Create empty dictionary\n",
    "modularity_class = {}\n",
    "#Loop through each community in the network\n",
    "for community_number, community in enumerate(communities):\n",
    "    #For each member of the community, add their community number\n",
    "    for name in community:\n",
    "        modularity_class[name] = community_number\n",
    "        \n",
    "communities = greedy_modularity_communities(G)\n",
    "\n",
    "node_groups = []\n",
    "for com in communities:\n",
    "    node_groups.append(list(com))\n",
    " \n",
    "print(node_groups)\n",
    " \n",
    "color_map = []\n",
    "for node in G:\n",
    "    if node in node_groups[0]:\n",
    "        color_map.append('blue')\n",
    "    elif node in node_groups[1]:\n",
    "        color_map.append('yellow')\n",
    "    else:\n",
    "        color_map.append('green')\n",
    "nx.draw(G, node_color=color_map, with_labels=True)\n",
    "plt.show()        "
   ]
  },
  {
   "cell_type": "code",
   "execution_count": 53,
   "id": "1fbdbca9-155c-454e-be75-7ac503cb033f",
   "metadata": {
    "collapsed": true,
    "jupyter": {
     "outputs_hidden": true
    },
    "tags": []
   },
   "outputs": [
    {
     "name": "stdout",
     "output_type": "stream",
     "text": [
      "7\n"
     ]
    },
    {
     "data": {
      "text/plain": [
       "[{'data': {'id': 'HAMLET',\n",
       "   'label': 'Hamlet',\n",
       "   'size': '15',\n",
       "   'modularity': 'green'}},\n",
       " {'data': {'id': 'CLAUDIUS',\n",
       "   'label': 'Claudius',\n",
       "   'size': '0',\n",
       "   'modularity': 'red'}},\n",
       " {'data': {'id': 'THE GHOST',\n",
       "   'label': 'The Ghost',\n",
       "   'size': '0',\n",
       "   'modularity': 'red'}},\n",
       " {'data': {'id': 'GERTRUDE',\n",
       "   'label': 'Gertrude',\n",
       "   'size': '0',\n",
       "   'modularity': 'red'}},\n",
       " {'data': {'id': 'LAERTES',\n",
       "   'label': 'Laertes',\n",
       "   'size': '6',\n",
       "   'modularity': 'green'}},\n",
       " {'data': {'id': 'OPHELIA',\n",
       "   'label': 'Ophelia',\n",
       "   'size': '5',\n",
       "   'modularity': 'red'}},\n",
       " {'data': {'id': 'HORATIO',\n",
       "   'label': 'Horatio',\n",
       "   'size': '8',\n",
       "   'modularity': 'blue'}},\n",
       " {'data': {'id': 'FORTINBRAS',\n",
       "   'label': 'Fortinbras',\n",
       "   'size': '2',\n",
       "   'modularity': 'green'}},\n",
       " {'data': {'id': 'VOLTEMAND',\n",
       "   'label': 'Voltemand',\n",
       "   'size': '2',\n",
       "   'modularity': 'blue'}},\n",
       " {'data': {'id': 'CORNELIUS',\n",
       "   'label': 'Cornelius',\n",
       "   'size': '1',\n",
       "   'modularity': 'blue'}},\n",
       " {'data': {'id': 'ROSENCRANTZ',\n",
       "   'label': 'Rosencrantz',\n",
       "   'size': '7',\n",
       "   'modularity': 'red'}},\n",
       " {'data': {'id': 'GUILDENSTERN',\n",
       "   'label': 'Guildenstern',\n",
       "   'size': '5',\n",
       "   'modularity': 'red'}},\n",
       " {'data': {'id': 'MARCELLUS',\n",
       "   'label': 'Marcellus',\n",
       "   'size': '4',\n",
       "   'modularity': 'blue'}},\n",
       " {'data': {'id': 'BARNARDO',\n",
       "   'label': 'Barnardo',\n",
       "   'size': '2',\n",
       "   'modularity': 'blue'}},\n",
       " {'data': {'id': 'FRANCISCO',\n",
       "   'label': 'Francisco',\n",
       "   'size': '1',\n",
       "   'modularity': 'blue'}},\n",
       " {'data': {'id': 'OSRIC',\n",
       "   'label': 'Osric',\n",
       "   'size': '1',\n",
       "   'modularity': 'green'}},\n",
       " {'data': {'id': 'REYNALDO',\n",
       "   'label': 'Reynaldo',\n",
       "   'size': '1',\n",
       "   'modularity': 'red'}},\n",
       " {'data': {'source': 'HAMLET',\n",
       "   'target': 'LAERTES',\n",
       "   'weight': 0.5714285714285714}},\n",
       " {'data': {'source': 'HAMLET',\n",
       "   'target': 'OPHELIA',\n",
       "   'weight': 0.2857142857142857}},\n",
       " {'data': {'source': 'HAMLET', 'target': 'HORATIO', 'weight': 1.0}},\n",
       " {'data': {'source': 'HAMLET',\n",
       "   'target': 'FORTINBRAS',\n",
       "   'weight': 0.2857142857142857}},\n",
       " {'data': {'source': 'HAMLET',\n",
       "   'target': 'VOLTEMAND',\n",
       "   'weight': 0.2857142857142857}},\n",
       " {'data': {'source': 'HAMLET',\n",
       "   'target': 'CORNELIUS',\n",
       "   'weight': 0.14285714285714285}},\n",
       " {'data': {'source': 'HAMLET', 'target': 'ROSENCRANTZ', 'weight': 1.0}},\n",
       " {'data': {'source': 'HAMLET',\n",
       "   'target': 'GUILDENSTERN',\n",
       "   'weight': 0.7142857142857143}},\n",
       " {'data': {'source': 'HAMLET',\n",
       "   'target': 'MARCELLUS',\n",
       "   'weight': 0.42857142857142855}},\n",
       " {'data': {'source': 'HAMLET',\n",
       "   'target': 'BARNARDO',\n",
       "   'weight': 0.14285714285714285}},\n",
       " {'data': {'source': 'HAMLET',\n",
       "   'target': 'OSRIC',\n",
       "   'weight': 0.14285714285714285}},\n",
       " {'data': {'source': 'LAERTES',\n",
       "   'target': 'OPHELIA',\n",
       "   'weight': 0.2857142857142857}},\n",
       " {'data': {'source': 'LAERTES',\n",
       "   'target': 'HORATIO',\n",
       "   'weight': 0.42857142857142855}},\n",
       " {'data': {'source': 'LAERTES',\n",
       "   'target': 'FORTINBRAS',\n",
       "   'weight': 0.14285714285714285}},\n",
       " {'data': {'source': 'LAERTES',\n",
       "   'target': 'VOLTEMAND',\n",
       "   'weight': 0.14285714285714285}},\n",
       " {'data': {'source': 'LAERTES',\n",
       "   'target': 'CORNELIUS',\n",
       "   'weight': 0.14285714285714285}},\n",
       " {'data': {'source': 'LAERTES',\n",
       "   'target': 'MARCELLUS',\n",
       "   'weight': 0.14285714285714285}},\n",
       " {'data': {'source': 'LAERTES',\n",
       "   'target': 'BARNARDO',\n",
       "   'weight': 0.14285714285714285}},\n",
       " {'data': {'source': 'LAERTES',\n",
       "   'target': 'OSRIC',\n",
       "   'weight': 0.14285714285714285}},\n",
       " {'data': {'source': 'OPHELIA',\n",
       "   'target': 'HORATIO',\n",
       "   'weight': 0.14285714285714285}},\n",
       " {'data': {'source': 'OPHELIA',\n",
       "   'target': 'ROSENCRANTZ',\n",
       "   'weight': 0.2857142857142857}},\n",
       " {'data': {'source': 'OPHELIA',\n",
       "   'target': 'GUILDENSTERN',\n",
       "   'weight': 0.2857142857142857}},\n",
       " {'data': {'source': 'OPHELIA',\n",
       "   'target': 'REYNALDO',\n",
       "   'weight': 0.14285714285714285}},\n",
       " {'data': {'source': 'HORATIO',\n",
       "   'target': 'FORTINBRAS',\n",
       "   'weight': 0.14285714285714285}},\n",
       " {'data': {'source': 'HORATIO',\n",
       "   'target': 'VOLTEMAND',\n",
       "   'weight': 0.14285714285714285}},\n",
       " {'data': {'source': 'HORATIO',\n",
       "   'target': 'CORNELIUS',\n",
       "   'weight': 0.14285714285714285}},\n",
       " {'data': {'source': 'HORATIO',\n",
       "   'target': 'ROSENCRANTZ',\n",
       "   'weight': 0.14285714285714285}},\n",
       " {'data': {'source': 'HORATIO',\n",
       "   'target': 'GUILDENSTERN',\n",
       "   'weight': 0.14285714285714285}},\n",
       " {'data': {'source': 'HORATIO',\n",
       "   'target': 'MARCELLUS',\n",
       "   'weight': 0.5714285714285714}},\n",
       " {'data': {'source': 'HORATIO',\n",
       "   'target': 'BARNARDO',\n",
       "   'weight': 0.2857142857142857}},\n",
       " {'data': {'source': 'HORATIO',\n",
       "   'target': 'FRANCISCO',\n",
       "   'weight': 0.14285714285714285}},\n",
       " {'data': {'source': 'HORATIO',\n",
       "   'target': 'OSRIC',\n",
       "   'weight': 0.14285714285714285}},\n",
       " {'data': {'source': 'FORTINBRAS',\n",
       "   'target': 'ROSENCRANTZ',\n",
       "   'weight': 0.14285714285714285}},\n",
       " {'data': {'source': 'FORTINBRAS',\n",
       "   'target': 'OSRIC',\n",
       "   'weight': 0.14285714285714285}},\n",
       " {'data': {'source': 'VOLTEMAND',\n",
       "   'target': 'CORNELIUS',\n",
       "   'weight': 0.14285714285714285}},\n",
       " {'data': {'source': 'VOLTEMAND',\n",
       "   'target': 'ROSENCRANTZ',\n",
       "   'weight': 0.14285714285714285}},\n",
       " {'data': {'source': 'VOLTEMAND',\n",
       "   'target': 'GUILDENSTERN',\n",
       "   'weight': 0.14285714285714285}},\n",
       " {'data': {'source': 'VOLTEMAND',\n",
       "   'target': 'MARCELLUS',\n",
       "   'weight': 0.14285714285714285}},\n",
       " {'data': {'source': 'VOLTEMAND',\n",
       "   'target': 'BARNARDO',\n",
       "   'weight': 0.14285714285714285}},\n",
       " {'data': {'source': 'CORNELIUS',\n",
       "   'target': 'MARCELLUS',\n",
       "   'weight': 0.14285714285714285}},\n",
       " {'data': {'source': 'CORNELIUS',\n",
       "   'target': 'BARNARDO',\n",
       "   'weight': 0.14285714285714285}},\n",
       " {'data': {'source': 'ROSENCRANTZ',\n",
       "   'target': 'GUILDENSTERN',\n",
       "   'weight': 0.7142857142857143}},\n",
       " {'data': {'source': 'MARCELLUS',\n",
       "   'target': 'BARNARDO',\n",
       "   'weight': 0.2857142857142857}},\n",
       " {'data': {'source': 'MARCELLUS',\n",
       "   'target': 'FRANCISCO',\n",
       "   'weight': 0.14285714285714285}},\n",
       " {'data': {'source': 'BARNARDO',\n",
       "   'target': 'FRANCISCO',\n",
       "   'weight': 0.14285714285714285}}]"
      ]
     },
     "execution_count": 53,
     "metadata": {},
     "output_type": "execute_result"
    }
   ],
   "source": [
    "graphitems = []\n",
    "\n",
    "# size_correction_factor = max(charnum.values())\n",
    "\n",
    "for k,v in charnum.items():\n",
    "    if k in node_groups[0]:\n",
    "        modularity = 'blue'\n",
    "    elif k in node_groups[1]:\n",
    "        modularity = 'green'\n",
    "    else:\n",
    "        modularity = 'red'\n",
    "    dashnode = {'data': {'id': k,\n",
    "                         'label': k.title(),\n",
    "                         'size': str(v),'modularity': modularity}}\n",
    "    graphitems.append(dashnode)\n",
    "\n",
    "correction_factor = max(connections.values())\n",
    "print(correction_factor)\n",
    "for k,v in connections.items():\n",
    "    if v != 0:\n",
    "        dashedge = {'data': {'source': k[0],\n",
    "                             'target': k[1],\n",
    "                             'weight': v/correction_factor}}\n",
    "        graphitems.append(dashedge)\n",
    "    \n",
    "graphitems"
   ]
  },
  {
   "cell_type": "code",
   "execution_count": 54,
   "id": "017ebe7c-856c-4910-bb50-7c0db78088d9",
   "metadata": {},
   "outputs": [
    {
     "name": "stdout",
     "output_type": "stream",
     "text": [
      "Dash app running on https://jupyter.idre.ucla.edu/user/alana.malika129@gmail.com/proxy/8050/\n"
     ]
    }
   ],
   "source": [
    "app = JupyterDash(__name__)\n",
    "\n",
    "app.layout = html.Div([\n",
    "    cyto.Cytoscape(\n",
    "        layout={'name': 'cose'},\n",
    "        elements=graphitems,\n",
    "        style={'width': '100%', 'height': '750px'},\n",
    "        stylesheet=[\n",
    "            {\n",
    "                'selector': 'node',\n",
    "                'style': {\n",
    "                    'content':'data(label)',\n",
    "                    'text-halign':'center',\n",
    "                    'text-valign':'center',\n",
    "                    'width': 'data(size)',\n",
    "                    'height': 'data(size)',\n",
    "                    'font-size': 4,\n",
    "                    'color': 'black',\n",
    "                    'background-color': 'data(modularity)',\n",
    "                    'text-outline-color': 'white',\n",
    "                    'text-outline-width': 0.2,\n",
    "                    'shape':'square'\n",
    "                }\n",
    "            },\n",
    "            {\n",
    "                'selector':'edge',\n",
    "                'style': {\n",
    "                    'width':'data(weight)',\n",
    "                    'line-color': 'black',\n",
    "                  }\n",
    "            },\n",
    "        ]\n",
    "    )\n",
    "])\n",
    "\n",
    "app.run_server(debug=True)"
   ]
  },
  {
   "cell_type": "markdown",
   "id": "ca411d03-90eb-41fa-8320-798bd3d0f8e9",
   "metadata": {},
   "source": [
    "Information contained in the graphs:\n",
    "- Node size: degree or number of connections\n",
    "\n",
    "- Edge weights: degree or number of connections normalized by the max connection number\n",
    "\n",
    "- Colors (rgb): colors assigned based on the greedy modularity communities algorithm"
   ]
  }
 ],
 "metadata": {
  "kernelspec": {
   "display_name": "Python 3 (ipykernel)",
   "language": "python",
   "name": "python3"
  },
  "language_info": {
   "codemirror_mode": {
    "name": "ipython",
    "version": 3
   },
   "file_extension": ".py",
   "mimetype": "text/x-python",
   "name": "python",
   "nbconvert_exporter": "python",
   "pygments_lexer": "ipython3",
   "version": "3.9.6"
  }
 },
 "nbformat": 4,
 "nbformat_minor": 5
}
